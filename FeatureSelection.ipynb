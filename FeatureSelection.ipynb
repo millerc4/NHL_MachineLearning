{
 "cells": [
  {
   "cell_type": "code",
   "execution_count": 22,
   "metadata": {},
   "outputs": [],
   "source": [
    "import pandas as pd\n",
    "import numpy as np"
   ]
  },
  {
   "cell_type": "code",
   "execution_count": 23,
   "metadata": {},
   "outputs": [],
   "source": [
    "data = pd.read_csv(\"NHL_data.csv\")"
   ]
  },
  {
   "cell_type": "code",
   "execution_count": 24,
   "metadata": {},
   "outputs": [
    {
     "data": {
      "text/html": [
       "<div>\n",
       "<style scoped>\n",
       "    .dataframe tbody tr th:only-of-type {\n",
       "        vertical-align: middle;\n",
       "    }\n",
       "\n",
       "    .dataframe tbody tr th {\n",
       "        vertical-align: top;\n",
       "    }\n",
       "\n",
       "    .dataframe thead th {\n",
       "        text-align: right;\n",
       "    }\n",
       "</style>\n",
       "<table border=\"1\" class=\"dataframe\">\n",
       "  <thead>\n",
       "    <tr style=\"text-align: right;\">\n",
       "      <th></th>\n",
       "      <th>CF%</th>\n",
       "      <th>CF/60</th>\n",
       "      <th>CA/60</th>\n",
       "      <th>GF%</th>\n",
       "      <th>GF/60</th>\n",
       "      <th>GA/60</th>\n",
       "      <th>xGF%</th>\n",
       "      <th>xGF/60</th>\n",
       "      <th>xGA/60</th>\n",
       "      <th>Sh%</th>\n",
       "      <th>Sv%</th>\n",
       "      <th>PDO</th>\n",
       "      <th>Playoffs</th>\n",
       "    </tr>\n",
       "  </thead>\n",
       "  <tbody>\n",
       "    <tr>\n",
       "      <th>0</th>\n",
       "      <td>50.71</td>\n",
       "      <td>45.86</td>\n",
       "      <td>44.57</td>\n",
       "      <td>52.97</td>\n",
       "      <td>1.89</td>\n",
       "      <td>1.68</td>\n",
       "      <td>48.73</td>\n",
       "      <td>1.92</td>\n",
       "      <td>2.02</td>\n",
       "      <td>7.30</td>\n",
       "      <td>93.62</td>\n",
       "      <td>100.93</td>\n",
       "      <td>1</td>\n",
       "    </tr>\n",
       "    <tr>\n",
       "      <th>1</th>\n",
       "      <td>50.96</td>\n",
       "      <td>50.37</td>\n",
       "      <td>48.47</td>\n",
       "      <td>52.73</td>\n",
       "      <td>2.39</td>\n",
       "      <td>2.14</td>\n",
       "      <td>51.10</td>\n",
       "      <td>2.22</td>\n",
       "      <td>2.13</td>\n",
       "      <td>8.40</td>\n",
       "      <td>92.42</td>\n",
       "      <td>100.82</td>\n",
       "      <td>1</td>\n",
       "    </tr>\n",
       "    <tr>\n",
       "      <th>2</th>\n",
       "      <td>47.35</td>\n",
       "      <td>50.30</td>\n",
       "      <td>55.93</td>\n",
       "      <td>50.34</td>\n",
       "      <td>2.34</td>\n",
       "      <td>2.31</td>\n",
       "      <td>45.83</td>\n",
       "      <td>2.12</td>\n",
       "      <td>2.50</td>\n",
       "      <td>8.23</td>\n",
       "      <td>92.75</td>\n",
       "      <td>100.98</td>\n",
       "      <td>0</td>\n",
       "    </tr>\n",
       "    <tr>\n",
       "      <th>3</th>\n",
       "      <td>44.35</td>\n",
       "      <td>47.09</td>\n",
       "      <td>59.08</td>\n",
       "      <td>46.53</td>\n",
       "      <td>2.09</td>\n",
       "      <td>2.40</td>\n",
       "      <td>44.08</td>\n",
       "      <td>1.92</td>\n",
       "      <td>2.43</td>\n",
       "      <td>7.87</td>\n",
       "      <td>92.31</td>\n",
       "      <td>100.18</td>\n",
       "      <td>1</td>\n",
       "    </tr>\n",
       "    <tr>\n",
       "      <th>4</th>\n",
       "      <td>48.54</td>\n",
       "      <td>51.29</td>\n",
       "      <td>54.38</td>\n",
       "      <td>47.26</td>\n",
       "      <td>2.13</td>\n",
       "      <td>2.37</td>\n",
       "      <td>47.13</td>\n",
       "      <td>2.05</td>\n",
       "      <td>2.30</td>\n",
       "      <td>7.99</td>\n",
       "      <td>91.66</td>\n",
       "      <td>99.65</td>\n",
       "      <td>0</td>\n",
       "    </tr>\n",
       "  </tbody>\n",
       "</table>\n",
       "</div>"
      ],
      "text/plain": [
       "     CF%  CF/60  CA/60    GF%  GF/60  GA/60   xGF%  xGF/60  xGA/60   Sh%  \\\n",
       "0  50.71  45.86  44.57  52.97   1.89   1.68  48.73    1.92    2.02  7.30   \n",
       "1  50.96  50.37  48.47  52.73   2.39   2.14  51.10    2.22    2.13  8.40   \n",
       "2  47.35  50.30  55.93  50.34   2.34   2.31  45.83    2.12    2.50  8.23   \n",
       "3  44.35  47.09  59.08  46.53   2.09   2.40  44.08    1.92    2.43  7.87   \n",
       "4  48.54  51.29  54.38  47.26   2.13   2.37  47.13    2.05    2.30  7.99   \n",
       "\n",
       "     Sv%     PDO  Playoffs  \n",
       "0  93.62  100.93         1  \n",
       "1  92.42  100.82         1  \n",
       "2  92.75  100.98         0  \n",
       "3  92.31  100.18         1  \n",
       "4  91.66   99.65         0  "
      ]
     },
     "execution_count": 24,
     "metadata": {},
     "output_type": "execute_result"
    }
   ],
   "source": [
    "data.head()"
   ]
  },
  {
   "cell_type": "code",
   "execution_count": 25,
   "metadata": {},
   "outputs": [],
   "source": [
    "array = data.values\n",
    "X = array[:,0:12]\n",
    "Y = array[:,12]"
   ]
  },
  {
   "cell_type": "code",
   "execution_count": 26,
   "metadata": {},
   "outputs": [],
   "source": [
    "from sklearn.feature_selection import SelectKBest\n",
    "from sklearn.feature_selection import chi2"
   ]
  },
  {
   "cell_type": "code",
   "execution_count": 27,
   "metadata": {},
   "outputs": [
    {
     "name": "stdout",
     "output_type": "stream",
     "text": [
      "[10.554  9.378 13.404 63.005  2.013  3.959 18.825  0.769  0.938  1.998\n",
      "  0.408  1.016]\n",
      "[[50.71 44.57 52.97 48.73]\n",
      " [50.96 48.47 52.73 51.1 ]\n",
      " [47.35 55.93 50.34 45.83]\n",
      " [44.35 59.08 46.53 44.08]\n",
      " [48.54 54.38 47.26 47.13]]\n"
     ]
    }
   ],
   "source": [
    "test = SelectKBest(score_func=chi2, k=4)\n",
    "fit = test.fit(X, Y)\n",
    "\n",
    "np.set_printoptions(precision=3)\n",
    "print(fit.scores_)\n",
    "\n",
    "features = fit.transform(X)\n",
    "print(features[0:5,:])"
   ]
  },
  {
   "cell_type": "code",
   "execution_count": 28,
   "metadata": {},
   "outputs": [],
   "source": [
    "from sklearn.feature_selection import RFE\n",
    "from sklearn.linear_model import LogisticRegression"
   ]
  },
  {
   "cell_type": "code",
   "execution_count": 29,
   "metadata": {},
   "outputs": [
    {
     "name": "stdout",
     "output_type": "stream",
     "text": [
      "Num Features: 4\n",
      "Selected Features: [False False False  True  True  True False  True False False False False]\n",
      "Feature Ranking: [8 6 7 1 1 1 4 1 3 5 9 2]\n"
     ]
    }
   ],
   "source": [
    "model = LogisticRegression()\n",
    "rfe = RFE(model, 4)\n",
    "fit = rfe.fit(X, Y)\n",
    "print(\"Num Features: %s\" % (fit.n_features_))\n",
    "print(\"Selected Features: %s\" % (fit.support_))\n",
    "print(\"Feature Ranking: %s\" % (fit.ranking_))"
   ]
  },
  {
   "cell_type": "code",
   "execution_count": 18,
   "metadata": {},
   "outputs": [],
   "source": [
    "from sklearn.linear_model import Ridge"
   ]
  },
  {
   "cell_type": "code",
   "execution_count": 19,
   "metadata": {},
   "outputs": [
    {
     "data": {
      "text/plain": [
       "Ridge(alpha=1.0, copy_X=True, fit_intercept=True, max_iter=None,\n",
       "   normalize=False, random_state=None, solver='auto', tol=0.001)"
      ]
     },
     "execution_count": 19,
     "metadata": {},
     "output_type": "execute_result"
    }
   ],
   "source": [
    "ridge = Ridge(alpha=1.0)\n",
    "ridge.fit(X,Y)"
   ]
  },
  {
   "cell_type": "code",
   "execution_count": 20,
   "metadata": {},
   "outputs": [],
   "source": [
    "def pretty_print_coefs(coefs, names = None, sort = False):\n",
    "    if names == None:\n",
    "        names = [\"X%s\" % x for x in range(len(coefs))]\n",
    "    lst = zip(coefs, names)\n",
    "    if sort:\n",
    "        lst = sorted(lst, key = lambda x:-np.abs(x[0]))\n",
    "    return \" + \".join(\"%s * %s\" % (round(coef, 3), name) for coef, name in lst)"
   ]
  },
  {
   "cell_type": "code",
   "execution_count": 21,
   "metadata": {},
   "outputs": [
    {
     "name": "stdout",
     "output_type": "stream",
     "text": [
      "('Ridge model:', '0.038 * X0 + -0.032 * X1 + 0.027 * X2 + 0.084 * X3 + -0.037 * X4 + -0.179 * X5 + 0.018 * X6 + 0.213 * X7 + -0.04 * X8 + -0.026 * X9 + 0.003 * X10 + -0.055 * X11')\n"
     ]
    }
   ],
   "source": [
    "print(\"Ridge model:\", pretty_print_coefs(ridge.coef_))"
   ]
  },
  {
   "cell_type": "code",
   "execution_count": null,
   "metadata": {},
   "outputs": [],
   "source": []
  }
 ],
 "metadata": {
  "kernelspec": {
   "display_name": "Python 2",
   "language": "python",
   "name": "python2"
  },
  "language_info": {
   "codemirror_mode": {
    "name": "ipython",
    "version": 2
   },
   "file_extension": ".py",
   "mimetype": "text/x-python",
   "name": "python",
   "nbconvert_exporter": "python",
   "pygments_lexer": "ipython2",
   "version": "2.7.16"
  }
 },
 "nbformat": 4,
 "nbformat_minor": 2
}
