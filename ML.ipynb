{
 "cells": [
  {
   "cell_type": "code",
   "execution_count": 1,
   "metadata": {},
   "outputs": [],
   "source": [
    "import numpy as np\n",
    "import pandas as pd\n",
    "import math\n",
    "from matplotlib import pyplot as plt\n",
    "%matplotlib inline\n",
    "import seaborn as sns"
   ]
  },
  {
   "cell_type": "code",
   "execution_count": 2,
   "metadata": {},
   "outputs": [
    {
     "data": {
      "text/html": [
       "<div>\n",
       "<style scoped>\n",
       "    .dataframe tbody tr th:only-of-type {\n",
       "        vertical-align: middle;\n",
       "    }\n",
       "\n",
       "    .dataframe tbody tr th {\n",
       "        vertical-align: top;\n",
       "    }\n",
       "\n",
       "    .dataframe thead th {\n",
       "        text-align: right;\n",
       "    }\n",
       "</style>\n",
       "<table border=\"1\" class=\"dataframe\">\n",
       "  <thead>\n",
       "    <tr style=\"text-align: right;\">\n",
       "      <th></th>\n",
       "      <th>GF%</th>\n",
       "      <th>GF/60</th>\n",
       "      <th>GA/60</th>\n",
       "      <th>xGF/60</th>\n",
       "      <th>Playoffs</th>\n",
       "    </tr>\n",
       "  </thead>\n",
       "  <tbody>\n",
       "    <tr>\n",
       "      <th>0</th>\n",
       "      <td>52.97</td>\n",
       "      <td>1.89</td>\n",
       "      <td>1.68</td>\n",
       "      <td>1.92</td>\n",
       "      <td>1</td>\n",
       "    </tr>\n",
       "    <tr>\n",
       "      <th>1</th>\n",
       "      <td>52.73</td>\n",
       "      <td>2.39</td>\n",
       "      <td>2.14</td>\n",
       "      <td>2.22</td>\n",
       "      <td>1</td>\n",
       "    </tr>\n",
       "    <tr>\n",
       "      <th>2</th>\n",
       "      <td>50.34</td>\n",
       "      <td>2.34</td>\n",
       "      <td>2.31</td>\n",
       "      <td>2.12</td>\n",
       "      <td>0</td>\n",
       "    </tr>\n",
       "    <tr>\n",
       "      <th>3</th>\n",
       "      <td>46.53</td>\n",
       "      <td>2.09</td>\n",
       "      <td>2.40</td>\n",
       "      <td>1.92</td>\n",
       "      <td>1</td>\n",
       "    </tr>\n",
       "    <tr>\n",
       "      <th>4</th>\n",
       "      <td>47.26</td>\n",
       "      <td>2.13</td>\n",
       "      <td>2.37</td>\n",
       "      <td>2.05</td>\n",
       "      <td>0</td>\n",
       "    </tr>\n",
       "  </tbody>\n",
       "</table>\n",
       "</div>"
      ],
      "text/plain": [
       "     GF%  GF/60  GA/60  xGF/60  Playoffs\n",
       "0  52.97   1.89   1.68    1.92         1\n",
       "1  52.73   2.39   2.14    2.22         1\n",
       "2  50.34   2.34   2.31    2.12         0\n",
       "3  46.53   2.09   2.40    1.92         1\n",
       "4  47.26   2.13   2.37    2.05         0"
      ]
     },
     "execution_count": 2,
     "metadata": {},
     "output_type": "execute_result"
    }
   ],
   "source": [
    "data = pd.read_csv('NHL_LogReg.csv')\n",
    "data.head()"
   ]
  },
  {
   "cell_type": "code",
   "execution_count": 3,
   "metadata": {},
   "outputs": [],
   "source": [
    "df1 = data[['GF%', 'Playoffs']]\n",
    "df2 = data[['GF/60', 'Playoffs']]\n",
    "df3 = data[['GA/60', 'Playoffs']]\n",
    "df4 = data[['xGF/60', 'Playoffs']]"
   ]
  },
  {
   "cell_type": "code",
   "execution_count": 4,
   "metadata": {},
   "outputs": [],
   "source": [
    "df1melt = df1.melt(id_vars = 'Playoffs', value_vars = ['GF%'], var_name = 'columns')\n",
    "df2melt = df2.melt(id_vars = 'Playoffs', value_vars = ['GF/60'], var_name = 'columns')\n",
    "df3melt = df3.melt(id_vars = 'Playoffs', value_vars = ['GA/60'], var_name = 'columns')\n",
    "df4melt = df4.melt(id_vars = 'Playoffs', value_vars = ['xGF/60'], var_name = 'columns')"
   ]
  },
  {
   "cell_type": "code",
   "execution_count": 5,
   "metadata": {},
   "outputs": [
    {
     "name": "stderr",
     "output_type": "stream",
     "text": [
      "C:\\Users\\millerc4\\AppData\\Local\\Continuum\\anaconda2\\lib\\site-packages\\seaborn\\categorical.py:3666: UserWarning: The `factorplot` function has been renamed to `catplot`. The original name will be removed in a future release. Please update your code. Note that the default `kind` in `factorplot` (`'point'`) has changed `'strip'` in `catplot`.\n",
      "  warnings.warn(msg)\n"
     ]
    },
    {
     "data": {
      "image/png": "[encoded data removed]",
      "text/plain": [
       "<Figure size 360x360 with 1 Axes>"
      ]
     },
     "metadata": {
      "needs_background": "light"
     },
     "output_type": "display_data"
    }
   ],
   "source": [
    "a = sns.factorplot(data = df1melt, \n",
    "                  x = 'Playoffs', y = 'value', \n",
    "                  kind = 'box', col = 'columns')\n",
    "plt.show()"
   ]
  },
  {
   "cell_type": "code",
   "execution_count": 6,
   "metadata": {},
   "outputs": [
    {
     "name": "stderr",
     "output_type": "stream",
     "text": [
      "C:\\Users\\millerc4\\AppData\\Local\\Continuum\\anaconda2\\lib\\site-packages\\seaborn\\categorical.py:3666: UserWarning: The `factorplot` function has been renamed to `catplot`. The original name will be removed in a future release. Please update your code. Note that the default `kind` in `factorplot` (`'point'`) has changed `'strip'` in `catplot`.\n",
      "  warnings.warn(msg)\n"
     ]
    },
    {
     "data": {
      "image/png": "[encoded data removed]",
      "text/plain": [
       "<Figure size 360x360 with 1 Axes>"
      ]
     },
     "metadata": {
      "needs_background": "light"
     },
     "output_type": "display_data"
    }
   ],
   "source": [
    "b = sns.factorplot(data = df2melt, \n",
    "                  x = 'Playoffs', y = 'value', \n",
    "                  kind = 'box', col = 'columns')\n",
    "plt.show()"
   ]
  },
  {
   "cell_type": "code",
   "execution_count": 7,
   "metadata": {},
   "outputs": [
    {
     "name": "stderr",
     "output_type": "stream",
     "text": [
      "C:\\Users\\millerc4\\AppData\\Local\\Continuum\\anaconda2\\lib\\site-packages\\seaborn\\categorical.py:3666: UserWarning: The `factorplot` function has been renamed to `catplot`. The original name will be removed in a future release. Please update your code. Note that the default `kind` in `factorplot` (`'point'`) has changed `'strip'` in `catplot`.\n",
      "  warnings.warn(msg)\n"
     ]
    },
    {
     "data": {
      "image/png": "[encoded data removed]",
      "text/plain": [
       "<Figure size 360x360 with 1 Axes>"
      ]
     },
     "metadata": {
      "needs_background": "light"
     },
     "output_type": "display_data"
    }
   ],
   "source": [
    "c = sns.factorplot(data = df3melt, \n",
    "                  x = 'Playoffs', y = 'value', \n",
    "                  kind = 'box', col = 'columns')\n",
    "plt.show()"
   ]
  },
  {
   "cell_type": "code",
   "execution_count": 8,
   "metadata": {},
   "outputs": [
    {
     "name": "stderr",
     "output_type": "stream",
     "text": [
      "C:\\Users\\millerc4\\AppData\\Local\\Continuum\\anaconda2\\lib\\site-packages\\seaborn\\categorical.py:3666: UserWarning: The `factorplot` function has been renamed to `catplot`. The original name will be removed in a future release. Please update your code. Note that the default `kind` in `factorplot` (`'point'`) has changed `'strip'` in `catplot`.\n",
      "  warnings.warn(msg)\n"
     ]
    },
    {
     "data": {
      "image/png": "[encoded data removed]",
      "text/plain": [
       "<Figure size 360x360 with 1 Axes>"
      ]
     },
     "metadata": {
      "needs_background": "light"
     },
     "output_type": "display_data"
    }
   ],
   "source": [
    "d = sns.factorplot(data = df4melt, \n",
    "                  x = 'Playoffs', y = 'value', \n",
    "                  kind = 'box', col = 'columns')\n",
    "plt.show()"
   ]
  },
  {
   "cell_type": "code",
   "execution_count": 9,
   "metadata": {},
   "outputs": [],
   "source": [
    "array1 = df1.values\n",
    "X1 = array1[:,0]\n",
    "X1 = X1.reshape(-1, 1)\n",
    "y1 = array1[:,1]"
   ]
  },
  {
   "cell_type": "code",
   "execution_count": 10,
   "metadata": {},
   "outputs": [
    {
     "name": "stdout",
     "output_type": "stream",
     "text": [
      "Train accuracy is 82.01 \n",
      "Test accuracy is 84.93 \n"
     ]
    }
   ],
   "source": [
    "from sklearn.model_selection import train_test_split\n",
    "X1_train, X1_test, y1_train, y1_test = train_test_split(X1, y1, test_size = 0.2, random_state = 0)\n",
    "\n",
    "from sklearn.svm import SVC\n",
    "clf1 = SVC(kernel='linear')\n",
    "clf1.fit(X1_train, y1_train)\n",
    "\n",
    "y1_pred = clf1.predict(X1_test)\n",
    "\n",
    "print(\"Train accuracy is %.2f \" % (clf1.score(X1_train, y1_train)*100))\n",
    "print(\"Test accuracy is %.2F \" % (clf1.score(X1_test, y1_test)*100))"
   ]
  },
  {
   "cell_type": "code",
   "execution_count": 11,
   "metadata": {},
   "outputs": [],
   "source": [
    "array2 = df2.values\n",
    "X2 = array2[:,0]\n",
    "X2 = X2.reshape(-1, 1)\n",
    "y2 = array2[:,1]"
   ]
  },
  {
   "cell_type": "code",
   "execution_count": 12,
   "metadata": {},
   "outputs": [
    {
     "name": "stdout",
     "output_type": "stream",
     "text": [
      "Train accuracy is 70.93 \n",
      "Test accuracy is 65.75 \n"
     ]
    }
   ],
   "source": [
    "from sklearn.model_selection import train_test_split\n",
    "X2_train, X2_test, y2_train, y2_test = train_test_split(X2, y2, test_size = 0.2, random_state = 0)\n",
    "\n",
    "from sklearn.svm import SVC\n",
    "clf2 = SVC(kernel='linear')\n",
    "clf2.fit(X2_train, y2_train)\n",
    "\n",
    "y2_pred = clf2.predict(X2_test)\n",
    "\n",
    "print(\"Train accuracy is %.2f \" % (clf2.score(X2_train, y2_train)*100))\n",
    "print(\"Test accuracy is %.2F \" % (clf2.score(X2_test, y2_test)*100))"
   ]
  },
  {
   "cell_type": "code",
   "execution_count": 13,
   "metadata": {},
   "outputs": [],
   "source": [
    "array3 = df3.values\n",
    "X3 = array3[:,0]\n",
    "X3 = X3.reshape(-1, 1)\n",
    "y3 = array3[:,1]"
   ]
  },
  {
   "cell_type": "code",
   "execution_count": 14,
   "metadata": {},
   "outputs": [
    {
     "name": "stdout",
     "output_type": "stream",
     "text": [
      "Train accuracy is 74.74 \n",
      "Test accuracy is 86.30 \n"
     ]
    }
   ],
   "source": [
    "from sklearn.model_selection import train_test_split\n",
    "X3_train, X3_test, y3_train, y3_test = train_test_split(X3, y3, test_size = 0.2, random_state = 0)\n",
    "\n",
    "from sklearn.svm import SVC\n",
    "clf3 = SVC(kernel='linear')\n",
    "clf3.fit(X3_train, y3_train)\n",
    "\n",
    "y3_pred = clf3.predict(X3_test)\n",
    "\n",
    "print(\"Train accuracy is %.2f \" % (clf3.score(X3_train, y3_train)*100))\n",
    "print(\"Test accuracy is %.2F \" % (clf3.score(X3_test, y3_test)*100))"
   ]
  },
  {
   "cell_type": "code",
   "execution_count": 15,
   "metadata": {},
   "outputs": [],
   "source": [
    "array4 = df4.values\n",
    "X4 = array4[:,0]\n",
    "X4 = X4.reshape(-1, 1)\n",
    "y4 = array4[:,1]"
   ]
  },
  {
   "cell_type": "code",
   "execution_count": 16,
   "metadata": {},
   "outputs": [
    {
     "name": "stdout",
     "output_type": "stream",
     "text": [
      "Train accuracy is 66.78 \n",
      "Test accuracy is 63.01 \n"
     ]
    }
   ],
   "source": [
    "from sklearn.model_selection import train_test_split\n",
    "X4_train, X4_test, y4_train, y4_test = train_test_split(X4, y4, test_size = 0.2, random_state = 0)\n",
    "\n",
    "from sklearn.svm import SVC\n",
    "clf4 = SVC(kernel='linear')\n",
    "clf4.fit(X4_train, y4_train)\n",
    "\n",
    "y4_pred = clf4.predict(X4_test)\n",
    "\n",
    "print(\"Train accuracy is %.2f \" % (clf4.score(X4_train, y4_train)*100))\n",
    "print(\"Test accuracy is %.2F \" % (clf4.score(X4_test, y4_test)*100))"
   ]
  },
  {
   "cell_type": "code",
   "execution_count": 19,
   "metadata": {},
   "outputs": [
    {
     "name": "stdout",
     "output_type": "stream",
     "text": [
      "Train accuracy is 89.27 \n",
      "Test accuracy is 80.82 \n"
     ]
    }
   ],
   "source": [
    "from sklearn.model_selection import train_test_split\n",
    "X5_train, X5_test, y5_train, y5_test = train_test_split(X1, y1, test_size = 0.2, random_state = 0)\n",
    "\n",
    "from sklearn.neighbors import KNeighborsClassifier\n",
    "knn = KNeighborsClassifier(n_neighbors = 3)\n",
    "knn.fit(X5_train, y5_train)\n",
    "pred = knn.predict(X5_test)\n",
    "print(\"Train accuracy is %.2f \" % (knn.score(X5_train, y5_train)*100))\n",
    "print(\"Test accuracy is %.2f \" % (knn.score(X5_test, y5_test)*100))"
   ]
  },
  {
   "cell_type": "code",
   "execution_count": 20,
   "metadata": {},
   "outputs": [
    {
     "name": "stdout",
     "output_type": "stream",
     "text": [
      "Train accuracy is 78.55 \n",
      "Test accuracy is 79.45 \n"
     ]
    }
   ],
   "source": [
    "from sklearn.model_selection import train_test_split\n",
    "X6_train, X6_test, y6_train, y6_test = train_test_split(X3, y3, test_size = 0.2, random_state = 0)\n",
    "\n",
    "from sklearn.neighbors import KNeighborsClassifier\n",
    "knn = KNeighborsClassifier(n_neighbors = 3)\n",
    "knn.fit(X6_train, y6_train)\n",
    "pred = knn.predict(X6_test)\n",
    "print(\"Train accuracy is %.2f \" % (knn.score(X6_train, y6_train)*100))\n",
    "print(\"Test accuracy is %.2f \" % (knn.score(X6_test, y6_test)*100))"
   ]
  },
  {
   "cell_type": "code",
   "execution_count": null,
   "metadata": {},
   "outputs": [],
   "source": []
  }
 ],
 "metadata": {
  "kernelspec": {
   "display_name": "Python 2",
   "language": "python",
   "name": "python2"
  },
  "language_info": {
   "codemirror_mode": {
    "name": "ipython",
    "version": 2
   },
   "file_extension": ".py",
   "mimetype": "text/x-python",
   "name": "python",
   "nbconvert_exporter": "python",
   "pygments_lexer": "ipython2",
   "version": "2.7.16"
  }
 },
 "nbformat": 4,
 "nbformat_minor": 2
}
